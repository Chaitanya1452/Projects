{
 "cells": [
  {
   "cell_type": "code",
   "execution_count": 1,
   "metadata": {
    "colab": {
     "base_uri": "https://localhost:8080/"
    },
    "executionInfo": {
     "elapsed": 1741,
     "status": "ok",
     "timestamp": 1627719751384,
     "user": {
      "displayName": "Jaspal Singh Jhass",
      "photoUrl": "",
      "userId": "14870781376371902378"
     },
     "user_tz": -330
    },
    "id": "pA2Im0i0q0Nj",
    "outputId": "ad710a40-8fde-4021-9afa-b7bf1c7ba1da"
   },
   "outputs": [],
   "source": [
    "# Import libraries\n",
    "from pandas import read_csv\n",
    "from matplotlib import pyplot\n",
    "from numpy import sqrt\n",
    "import warnings\n",
    "import itertools\n",
    "import pandas as pd\n",
    "import numpy as np\n",
    "import matplotlib.pyplot as plt\n",
    "import statsmodels.api as sm"
   ]
  },
  {
   "cell_type": "code",
   "execution_count": 2,
   "metadata": {
    "id": "pRjFc7hxq0Nw"
   },
   "outputs": [],
   "source": [
    "series = read_csv('water.csv', header=0, index_col=0, parse_dates=True)"
   ]
  },
  {
   "cell_type": "code",
   "execution_count": 3,
   "metadata": {
    "colab": {
     "base_uri": "https://localhost:8080/",
     "height": 450
    },
    "executionInfo": {
     "elapsed": 15,
     "status": "ok",
     "timestamp": 1627719754410,
     "user": {
      "displayName": "Jaspal Singh Jhass",
      "photoUrl": "",
      "userId": "14870781376371902378"
     },
     "user_tz": -330
    },
    "id": "40ts1Q16q0Ny",
    "outputId": "f9cf6c5a-449e-4f62-a5f3-e549eaee9b7b"
   },
   "outputs": [
    {
     "data": {
      "text/html": [
       "<div>\n",
       "<style scoped>\n",
       "    .dataframe tbody tr th:only-of-type {\n",
       "        vertical-align: middle;\n",
       "    }\n",
       "\n",
       "    .dataframe tbody tr th {\n",
       "        vertical-align: top;\n",
       "    }\n",
       "\n",
       "    .dataframe thead th {\n",
       "        text-align: right;\n",
       "    }\n",
       "</style>\n",
       "<table border=\"1\" class=\"dataframe\">\n",
       "  <thead>\n",
       "    <tr style=\"text-align: right;\">\n",
       "      <th></th>\n",
       "      <th>Water</th>\n",
       "    </tr>\n",
       "    <tr>\n",
       "      <th>Year</th>\n",
       "      <th></th>\n",
       "    </tr>\n",
       "  </thead>\n",
       "  <tbody>\n",
       "    <tr>\n",
       "      <th>1885-01-01</th>\n",
       "      <td>356</td>\n",
       "    </tr>\n",
       "    <tr>\n",
       "      <th>1886-01-01</th>\n",
       "      <td>386</td>\n",
       "    </tr>\n",
       "    <tr>\n",
       "      <th>1887-01-01</th>\n",
       "      <td>397</td>\n",
       "    </tr>\n",
       "    <tr>\n",
       "      <th>1888-01-01</th>\n",
       "      <td>397</td>\n",
       "    </tr>\n",
       "    <tr>\n",
       "      <th>1889-01-01</th>\n",
       "      <td>413</td>\n",
       "    </tr>\n",
       "    <tr>\n",
       "      <th>...</th>\n",
       "      <td>...</td>\n",
       "    </tr>\n",
       "    <tr>\n",
       "      <th>1959-01-01</th>\n",
       "      <td>594</td>\n",
       "    </tr>\n",
       "    <tr>\n",
       "      <th>1960-01-01</th>\n",
       "      <td>587</td>\n",
       "    </tr>\n",
       "    <tr>\n",
       "      <th>1961-01-01</th>\n",
       "      <td>587</td>\n",
       "    </tr>\n",
       "    <tr>\n",
       "      <th>1962-01-01</th>\n",
       "      <td>625</td>\n",
       "    </tr>\n",
       "    <tr>\n",
       "      <th>1963-01-01</th>\n",
       "      <td>613</td>\n",
       "    </tr>\n",
       "  </tbody>\n",
       "</table>\n",
       "<p>79 rows × 1 columns</p>\n",
       "</div>"
      ],
      "text/plain": [
       "            Water\n",
       "Year             \n",
       "1885-01-01    356\n",
       "1886-01-01    386\n",
       "1887-01-01    397\n",
       "1888-01-01    397\n",
       "1889-01-01    413\n",
       "...           ...\n",
       "1959-01-01    594\n",
       "1960-01-01    587\n",
       "1961-01-01    587\n",
       "1962-01-01    625\n",
       "1963-01-01    613\n",
       "\n",
       "[79 rows x 1 columns]"
      ]
     },
     "execution_count": 3,
     "metadata": {},
     "output_type": "execute_result"
    }
   ],
   "source": [
    "series"
   ]
  },
  {
   "cell_type": "code",
   "execution_count": 4,
   "metadata": {
    "colab": {
     "base_uri": "https://localhost:8080/",
     "height": 279
    },
    "executionInfo": {
     "elapsed": 748,
     "status": "ok",
     "timestamp": 1627719757458,
     "user": {
      "displayName": "Jaspal Singh Jhass",
      "photoUrl": "",
      "userId": "14870781376371902378"
     },
     "user_tz": -330
    },
    "id": "PHSUh2d7q0Ny",
    "outputId": "4a9aa61b-b40b-4a6d-aa0c-c86fad5d012f"
   },
   "outputs": [
    {
     "data": {
      "image/png": "[encoded data removed]",
      "text/plain": [
       "<Figure size 432x288 with 1 Axes>"
      ]
     },
     "metadata": {
      "needs_background": "light"
     },
     "output_type": "display_data"
    }
   ],
   "source": [
    "# line plot of time series\n",
    "from pandas import read_csv\n",
    "from matplotlib import pyplot\n",
    "series.plot()\n",
    "pyplot.show()"
   ]
  },
  {
   "cell_type": "code",
   "execution_count": 5,
   "metadata": {
    "colab": {
     "base_uri": "https://localhost:8080/",
     "height": 315
    },
    "executionInfo": {
     "elapsed": 662,
     "status": "ok",
     "timestamp": 1627719764772,
     "user": {
      "displayName": "Jaspal Singh Jhass",
      "photoUrl": "",
      "userId": "14870781376371902378"
     },
     "user_tz": -330
    },
    "id": "zdcCQdCNq0Ny",
    "outputId": "730f89e2-62c0-4c75-8a5b-2fb7607a78f2"
   },
   "outputs": [
    {
     "data": {
      "text/plain": [
       "array([[<AxesSubplot:title={'center':'Water'}>]], dtype=object)"
      ]
     },
     "execution_count": 5,
     "metadata": {},
     "output_type": "execute_result"
    },
    {
     "data": {
      "image/png": "[encoded data removed]",
      "text/plain": [
       "<Figure size 432x288 with 1 Axes>"
      ]
     },
     "metadata": {
      "needs_background": "light"
     },
     "output_type": "display_data"
    }
   ],
   "source": [
    "series.hist()"
   ]
  },
  {
   "cell_type": "code",
   "execution_count": 6,
   "metadata": {
    "colab": {
     "base_uri": "https://localhost:8080/",
     "height": 282
    },
    "executionInfo": {
     "elapsed": 487,
     "status": "ok",
     "timestamp": 1627719769114,
     "user": {
      "displayName": "Jaspal Singh Jhass",
      "photoUrl": "",
      "userId": "14870781376371902378"
     },
     "user_tz": -330
    },
    "id": "y2orvvNMq0Nz",
    "outputId": "7720b3c9-49c0-4059-99f3-11a94ef9e948"
   },
   "outputs": [
    {
     "data": {
      "text/plain": [
       "<AxesSubplot:ylabel='Density'>"
      ]
     },
     "execution_count": 6,
     "metadata": {},
     "output_type": "execute_result"
    },
    {
     "data": {
      "image/png": "[encoded data removed]",
      "text/plain": [
       "<Figure size 432x288 with 1 Axes>"
      ]
     },
     "metadata": {
      "needs_background": "light"
     },
     "output_type": "display_data"
    }
   ],
   "source": [
    "series.plot(kind='kde')"
   ]
  },
  {
   "cell_type": "code",
   "execution_count": 7,
   "metadata": {
    "colab": {
     "base_uri": "https://localhost:8080/"
    },
    "executionInfo": {
     "elapsed": 379,
     "status": "ok",
     "timestamp": 1627719772088,
     "user": {
      "displayName": "Jaspal Singh Jhass",
      "photoUrl": "",
      "userId": "14870781376371902378"
     },
     "user_tz": -330
    },
    "id": "sofhsBmqq0N0",
    "outputId": "7a47d493-d557-4551-c5b3-92217654de9f"
   },
   "outputs": [
    {
     "name": "stdout",
     "output_type": "stream",
     "text": [
      "Dataset 69, Validation 10\n"
     ]
    }
   ],
   "source": [
    "# separate out a validation dataset\n",
    "split_point = len(series) - 10\n",
    "dataset, validation = series[0:split_point], series[split_point:]\n",
    "print('Dataset %d, Validation %d' % (len(dataset), len(validation)))\n",
    "dataset.to_csv('dataset.csv', header=False)\n",
    "validation.to_csv('validation.csv', header=False)"
   ]
  },
  {
   "cell_type": "markdown",
   "metadata": {
    "id": "FLSlPjffq0N1"
   },
   "source": [
    "#### Persistence/ Base model"
   ]
  },
  {
   "cell_type": "code",
   "execution_count": 8,
   "metadata": {
    "id": "A8dCp9Req0N2"
   },
   "outputs": [],
   "source": [
    "# evaluate a persistence model\n",
    "from pandas import read_csv\n",
    "from sklearn.metrics import mean_squared_error\n",
    "from math import sqrt\n",
    "# load data\n",
    "train = read_csv('dataset.csv', header=None, index_col=0, parse_dates=True, squeeze=True)\n",
    "# prepare data\n",
    "X = train.values\n",
    "X = X.astype('float32')\n",
    "train_size = int(len(X) * 0.50)\n",
    "train, test = X[0:train_size], X[train_size:]\n"
   ]
  },
  {
   "cell_type": "code",
   "execution_count": 9,
   "metadata": {
    "colab": {
     "base_uri": "https://localhost:8080/"
    },
    "executionInfo": {
     "elapsed": 349,
     "status": "ok",
     "timestamp": 1627719790771,
     "user": {
      "displayName": "Jaspal Singh Jhass",
      "photoUrl": "",
      "userId": "14870781376371902378"
     },
     "user_tz": -330
    },
    "id": "tcJLznPJq0N2",
    "outputId": "ae61c427-c57f-4e79-f65a-8530678a84d4"
   },
   "outputs": [
    {
     "name": "stdout",
     "output_type": "stream",
     "text": [
      ">Predicted=503.000, Expected=503.000\n",
      ">Predicted=503.000, Expected=503.000\n",
      ">Predicted=503.000, Expected=515.000\n",
      ">Predicted=515.000, Expected=522.000\n",
      ">Predicted=522.000, Expected=492.000\n",
      ">Predicted=492.000, Expected=503.000\n",
      ">Predicted=503.000, Expected=503.000\n",
      ">Predicted=503.000, Expected=450.000\n",
      ">Predicted=450.000, Expected=432.000\n",
      ">Predicted=432.000, Expected=432.000\n",
      ">Predicted=432.000, Expected=458.000\n",
      ">Predicted=458.000, Expected=462.000\n",
      ">Predicted=462.000, Expected=503.000\n",
      ">Predicted=503.000, Expected=488.000\n",
      ">Predicted=488.000, Expected=466.000\n",
      ">Predicted=466.000, Expected=492.000\n",
      ">Predicted=492.000, Expected=503.000\n",
      ">Predicted=503.000, Expected=515.000\n",
      ">Predicted=515.000, Expected=500.000\n",
      ">Predicted=500.000, Expected=522.000\n",
      ">Predicted=522.000, Expected=575.000\n",
      ">Predicted=575.000, Expected=583.000\n",
      ">Predicted=583.000, Expected=587.000\n",
      ">Predicted=587.000, Expected=628.000\n",
      ">Predicted=628.000, Expected=640.000\n",
      ">Predicted=640.000, Expected=609.000\n",
      ">Predicted=609.000, Expected=606.000\n",
      ">Predicted=606.000, Expected=632.000\n",
      ">Predicted=632.000, Expected=617.000\n",
      ">Predicted=617.000, Expected=613.000\n",
      ">Predicted=613.000, Expected=598.000\n",
      ">Predicted=598.000, Expected=575.000\n",
      ">Predicted=575.000, Expected=564.000\n",
      ">Predicted=564.000, Expected=549.000\n",
      ">Predicted=549.000, Expected=538.000\n",
      "RMSE: 21.975\n"
     ]
    }
   ],
   "source": [
    "# walk-forward validation\n",
    "history = [x for x in train]\n",
    "predictions = list()\n",
    "for i in range(len(test)):\n",
    "    yhat = history[-1]\n",
    "    predictions.append(yhat)\n",
    "# observation\n",
    "    obs = test[i]\n",
    "    history.append(obs)\n",
    "    print('>Predicted=%.3f, Expected=%.3f' % (yhat, obs))\n",
    "# report performance\n",
    "rmse = sqrt(mean_squared_error(test, predictions))\n",
    "print('RMSE: %.3f' % rmse)"
   ]
  },
  {
   "cell_type": "markdown",
   "metadata": {
    "id": "Umm4LSEsq0N3"
   },
   "source": [
    "#### ARIMA Hyperparameters"
   ]
  },
  {
   "cell_type": "markdown",
   "metadata": {
    "id": "bK-ZAQi9q0N3"
   },
   "source": [
    "#### Grid search for p,d,q values"
   ]
  },
  {
   "cell_type": "code",
   "execution_count": 10,
   "metadata": {
    "id": "mJytXCinq0N4"
   },
   "outputs": [],
   "source": [
    "# evaluate combinations of p, d and q values for an ARIMA model\n",
    "def evaluate_models(dataset, p_values, d_values, q_values):\n",
    "    dataset = dataset.astype('float32')\n",
    "    best_score, best_cfg = float('inf'), None\n",
    "    for p in p_values:\n",
    "        for d in d_values:\n",
    "            for q in q_values:\n",
    "                order = (p,d,q)\n",
    "                try:\n",
    "                    rmse = evaluate_arima_model(train, order)\n",
    "                    if rmse < best_score:\n",
    "                        best_score, best_cfg = rmse, order\n",
    "                    print('ARIMA%s RMSE=%.3f' % (order,rmse))\n",
    "                except:\n",
    "                    continue\n",
    "    print('Best ARIMA%s RMSE=%.3f' % (best_cfg, best_score))"
   ]
  },
  {
   "cell_type": "code",
   "execution_count": 11,
   "metadata": {
    "colab": {
     "base_uri": "https://localhost:8080/"
    },
    "executionInfo": {
     "elapsed": 35937,
     "status": "ok",
     "timestamp": 1627720051802,
     "user": {
      "displayName": "Jaspal Singh Jhass",
      "photoUrl": "",
      "userId": "14870781376371902378"
     },
     "user_tz": -330
    },
    "id": "fThjJZVdq0N4",
    "outputId": "1139ce7e-dacf-4faf-e0b4-172b4a73d6c8"
   },
   "outputs": [
    {
     "name": "stdout",
     "output_type": "stream",
     "text": [
      "Best ARIMANone RMSE=inf\n"
     ]
    }
   ],
   "source": [
    "# load dataset\n",
    "train = read_csv('dataset.csv', header=None, index_col=0, parse_dates=True, squeeze=True)\n",
    "# evaluate parameters\n",
    "p_values = range(0, 3)\n",
    "d_values = range(0, 3)\n",
    "q_values = range(0, 3)\n",
    "warnings.filterwarnings(\"ignore\")\n",
    "evaluate_models(train.values, p_values, d_values, q_values)"
   ]
  },
  {
   "cell_type": "markdown",
   "metadata": {
    "id": "vbFnA7I3q0N5"
   },
   "source": [
    "#### Build Model based on the optimized values"
   ]
  },
  {
   "cell_type": "code",
   "execution_count": 27,
   "metadata": {
    "id": "DOU5AzShq0N5"
   },
   "outputs": [],
   "source": [
    "# save finalized model to file\n",
    "from pandas import read_csv\n",
    "from statsmodels.tsa.arima_model import ARIMA\n",
    "import numpy"
   ]
  },
  {
   "cell_type": "code",
   "execution_count": 28,
   "metadata": {
    "id": "0uyCCxzlq0N5"
   },
   "outputs": [],
   "source": [
    "# load data\n",
    "train = read_csv('dataset.csv', header=0, index_col=0, parse_dates=True)\n",
    "# prepare data\n",
    "X = train.values\n",
    "X = X.astype('float32')"
   ]
  },
  {
   "cell_type": "code",
   "execution_count": 29,
   "metadata": {
    "colab": {
     "base_uri": "https://localhost:8080/",
     "height": 513
    },
    "executionInfo": {
     "elapsed": 1746,
     "status": "ok",
     "timestamp": 1627720166745,
     "user": {
      "displayName": "Jaspal Singh Jhass",
      "photoUrl": "",
      "userId": "14870781376371902378"
     },
     "user_tz": -330
    },
    "id": "UOIyR-r9q0N6",
    "outputId": "083b5af7-b130-423b-ae96-1e788b87c8a7"
   },
   "outputs": [
    {
     "data": {
      "image/png": "[encoded data removed]",
      "text/plain": [
       "<Figure size 432x288 with 1 Axes>"
      ]
     },
     "execution_count": 29,
     "metadata": {},
     "output_type": "execute_result"
    },
    {
     "data": {
      "image/png": "[encoded data removed]",
      "text/plain": [
       "<Figure size 432x288 with 1 Axes>"
      ]
     },
     "metadata": {
      "needs_background": "light"
     },
     "output_type": "display_data"
    }
   ],
   "source": [
    "# fit model\n",
    "model = ARIMA(X, order=(4,1,1))\n",
    "model_fit = model.fit()\n",
    "forecast=model_fit.forecast(steps=10)[0]\n",
    "model_fit.plot_predict(1, 79)"
   ]
  },
  {
   "cell_type": "code",
   "execution_count": 30,
   "metadata": {
    "colab": {
     "base_uri": "https://localhost:8080/"
    },
    "executionInfo": {
     "elapsed": 15,
     "status": "ok",
     "timestamp": 1627720166747,
     "user": {
      "displayName": "Jaspal Singh Jhass",
      "photoUrl": "",
      "userId": "14870781376371902378"
     },
     "user_tz": -330
    },
    "id": "b-zFw7tEq0N6",
    "outputId": "d4f2048f-a5aa-4bf7-8a5c-320b7e636ac5"
   },
   "outputs": [
    {
     "data": {
      "text/plain": [
       "11.710018199317226"
      ]
     },
     "execution_count": 30,
     "metadata": {},
     "output_type": "execute_result"
    }
   ],
   "source": [
    "#Error on the test data\n",
    "val=pd.read_csv('validation.csv',header=None)\n",
    "rmse = sqrt(mean_squared_error(val[1], forecast))\n",
    "rmse"
   ]
  },
  {
   "cell_type": "markdown",
   "metadata": {
    "id": "RMMPPVWUq0N6"
   },
   "source": [
    "#### Combine train and test data and build final model"
   ]
  },
  {
   "cell_type": "code",
   "execution_count": 31,
   "metadata": {
    "id": "nWOjX5XMq0N6"
   },
   "outputs": [],
   "source": [
    "# fit model\n",
    "data = read_csv('water.csv', header=0, index_col=0, parse_dates=True)\n",
    "# prepare data\n",
    "X = data.values\n",
    "X = X.astype('float32')"
   ]
  },
  {
   "cell_type": "code",
   "execution_count": 32,
   "metadata": {
    "id": "1KGLRzCxq0N7"
   },
   "outputs": [],
   "source": [
    "model = ARIMA(X, order=(4,1,0))\n",
    "model_fit = model.fit()"
   ]
  },
  {
   "cell_type": "code",
   "execution_count": 33,
   "metadata": {
    "colab": {
     "base_uri": "https://localhost:8080/"
    },
    "executionInfo": {
     "elapsed": 378,
     "status": "ok",
     "timestamp": 1627720195077,
     "user": {
      "displayName": "Jaspal Singh Jhass",
      "photoUrl": "",
      "userId": "14870781376371902378"
     },
     "user_tz": -330
    },
    "id": "pUuCITbJq0N8",
    "outputId": "06937cc0-d653-4a37-ce81-686d2fc8f29e"
   },
   "outputs": [
    {
     "data": {
      "text/plain": [
       "array([550.81016735, 564.95799619, 576.46866535, 582.72471347,\n",
       "       587.27449993, 591.41799903, 595.77648683, 599.96136329,\n",
       "       603.80815964, 607.29013953])"
      ]
     },
     "execution_count": 33,
     "metadata": {},
     "output_type": "execute_result"
    }
   ],
   "source": [
    "forecast"
   ]
  },
  {
   "cell_type": "code",
   "execution_count": 21,
   "metadata": {
    "colab": {
     "base_uri": "https://localhost:8080/"
    },
    "executionInfo": {
     "elapsed": 631,
     "status": "ok",
     "timestamp": 1627720263758,
     "user": {
      "displayName": "Jaspal Singh Jhass",
      "photoUrl": "",
      "userId": "14870781376371902378"
     },
     "user_tz": -330
    },
    "id": "iGA1Py0OT6Ec",
    "outputId": "b1e24b03-e882-4d17-9ca7-b8274aefdeff"
   },
   "outputs": [
    {
     "data": {
      "text/plain": [
       "array([[386.],\n",
       "       [397.],\n",
       "       [397.],\n",
       "       [413.],\n",
       "       [458.],\n",
       "       [485.],\n",
       "       [344.],\n",
       "       [390.],\n",
       "       [360.],\n",
       "       [420.],\n",
       "       [435.],\n",
       "       [439.],\n",
       "       [454.],\n",
       "       [462.],\n",
       "       [454.],\n",
       "       [469.],\n",
       "       [500.],\n",
       "       [492.],\n",
       "       [473.],\n",
       "       [458.],\n",
       "       [469.],\n",
       "       [481.],\n",
       "       [488.],\n",
       "       [466.],\n",
       "       [462.],\n",
       "       [473.],\n",
       "       [530.],\n",
       "       [662.],\n",
       "       [651.],\n",
       "       [587.],\n",
       "       [515.],\n",
       "       [526.],\n",
       "       [503.],\n",
       "       [503.],\n",
       "       [503.],\n",
       "       [515.],\n",
       "       [522.],\n",
       "       [492.],\n",
       "       [503.],\n",
       "       [503.],\n",
       "       [450.],\n",
       "       [432.],\n",
       "       [432.],\n",
       "       [458.],\n",
       "       [462.],\n",
       "       [503.],\n",
       "       [488.],\n",
       "       [466.],\n",
       "       [492.],\n",
       "       [503.],\n",
       "       [515.],\n",
       "       [500.],\n",
       "       [522.],\n",
       "       [575.],\n",
       "       [583.],\n",
       "       [587.],\n",
       "       [628.],\n",
       "       [640.],\n",
       "       [609.],\n",
       "       [606.],\n",
       "       [632.],\n",
       "       [617.],\n",
       "       [613.],\n",
       "       [598.],\n",
       "       [575.],\n",
       "       [564.],\n",
       "       [549.],\n",
       "       [538.]], dtype=float32)"
      ]
     },
     "execution_count": 21,
     "metadata": {},
     "output_type": "execute_result"
    }
   ],
   "source": [
    "X"
   ]
  },
  {
   "cell_type": "code",
   "execution_count": null,
   "metadata": {
    "id": "pMzjGYN2sCKr"
   },
   "outputs": [],
   "source": []
  }
 ],
 "metadata": {
  "colab": {
   "name": "Forecasting Model_Arima.ipynb",
   "provenance": []
  },
  "kernelspec": {
   "display_name": "Python 3 (ipykernel)",
   "language": "python",
   "name": "python3"
  },
  "language_info": {
   "codemirror_mode": {
    "name": "ipython",
    "version": 3
   },
   "file_extension": ".py",
   "mimetype": "text/x-python",
   "name": "python",
   "nbconvert_exporter": "python",
   "pygments_lexer": "ipython3",
   "version": "3.9.7"
  }
 },
 "nbformat": 4,
 "nbformat_minor": 1
}

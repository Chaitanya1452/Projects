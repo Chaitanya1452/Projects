{
 "cells": [
  {
   "cell_type": "code",
   "execution_count": 12,
   "id": "1bfe628a",
   "metadata": {},
   "outputs": [
    {
     "name": "stdout",
     "output_type": "stream",
     "text": [
      "Requirement already satisfied: syllables in c:\\users\\gvsai\\anaconda3\\lib\\site-packages (1.0.7)\n",
      "Requirement already satisfied: cmudict<2.0.0,>=1.0.11 in c:\\users\\gvsai\\anaconda3\\lib\\site-packages (from syllables) (1.0.13)\n",
      "Requirement already satisfied: importlib-metadata<6.0.0,>=5.1.0 in c:\\users\\gvsai\\anaconda3\\lib\\site-packages (from syllables) (5.2.0)\n",
      "Requirement already satisfied: importlib-resources<6.0.0,>=5.10.1 in c:\\users\\gvsai\\anaconda3\\lib\\site-packages (from cmudict<2.0.0,>=1.0.11->syllables) (5.12.0)\n",
      "Requirement already satisfied: zipp>=0.5 in c:\\users\\gvsai\\anaconda3\\lib\\site-packages (from importlib-metadata<6.0.0,>=5.1.0->syllables) (3.11.0)\n"
     ]
    }
   ],
   "source": [
    "!pip install syllables"
   ]
  },
  {
   "cell_type": "code",
   "execution_count": 3,
   "id": "b7298bd1",
   "metadata": {},
   "outputs": [
    {
     "name": "stdout",
     "output_type": "stream",
     "text": [
      "Requirement already satisfied: textstat in c:\\users\\gvsai\\anaconda3\\lib\\site-packages (0.7.3)\n",
      "Requirement already satisfied: pyphen in c:\\users\\gvsai\\anaconda3\\lib\\site-packages (from textstat) (0.14.0)\n"
     ]
    }
   ],
   "source": [
    "!pip install textstat"
   ]
  },
  {
   "cell_type": "markdown",
   "id": "03b7c2fe",
   "metadata": {},
   "source": [
    "Importing packages"
   ]
  },
  {
   "cell_type": "code",
   "execution_count": 11,
   "id": "7323a58a",
   "metadata": {},
   "outputs": [],
   "source": [
    "import syllables"
   ]
  },
  {
   "cell_type": "code",
   "execution_count": 4,
   "id": "f03ffbea",
   "metadata": {
    "scrolled": true
   },
   "outputs": [],
   "source": [
    "import requests\n",
    "from bs4 import BeautifulSoup\n",
    "import nltk\n",
    "from nltk.sentiment import SentimentIntensityAnalyzer\n",
    "from textstat import flesch_reading_ease"
   ]
  },
  {
   "cell_type": "markdown",
   "id": "c0f2b8bd",
   "metadata": {},
   "source": [
    "Get the URL to scrap"
   ]
  },
  {
   "cell_type": "code",
   "execution_count": 574,
   "id": "06f261d8",
   "metadata": {},
   "outputs": [],
   "source": [
    "url = \"https://insights.blackcoffer.com/challenges-and-opportunities-of-big-data-in-healthcare/\""
   ]
  },
  {
   "cell_type": "markdown",
   "id": "82796d93",
   "metadata": {},
   "source": [
    "Parse through the Html Link for the tag in which information is present"
   ]
  },
  {
   "cell_type": "code",
   "execution_count": 575,
   "id": "6a78e184",
   "metadata": {},
   "outputs": [],
   "source": [
    "response = requests.get(url)\n",
    "html_content = response.text\n",
    "soup=BeautifulSoup(response.content, 'html.parser')\n",
    "article_text = soup.find('div',class_=\"td-theme-wrap\").get_text()"
   ]
  },
  {
   "cell_type": "markdown",
   "id": "3ae92562",
   "metadata": {},
   "source": [
    "Sentences, Words and Length of sentences,length of words"
   ]
  },
  {
   "cell_type": "code",
   "execution_count": 576,
   "id": "b80f332a",
   "metadata": {},
   "outputs": [],
   "source": [
    "sentences = nltk.sent_tokenize(article_text)\n",
    "words = nltk.word_tokenize(article_text)"
   ]
  },
  {
   "cell_type": "markdown",
   "id": "17c5d78e",
   "metadata": {},
   "source": [
    "Calculating Positive and Negative Score"
   ]
  },
  {
   "cell_type": "code",
   "execution_count": 577,
   "id": "9271e051",
   "metadata": {},
   "outputs": [],
   "source": [
    "sia = SentimentIntensityAnalyzer()\n",
    "positive_score = sia.polarity_scores(article_text)[\"pos\"]\n",
    "negative_score = sia.polarity_scores(article_text)[\"neg\"]\n"
   ]
  },
  {
   "cell_type": "markdown",
   "id": "88ad1af1",
   "metadata": {},
   "source": [
    "Calculating Polarity score, Subjectivity score"
   ]
  },
  {
   "cell_type": "code",
   "execution_count": null,
   "id": "e9a3e815",
   "metadata": {},
   "outputs": [],
   "source": [
    "polarity_score = sia.polarity_scores(article_text)[\"compound\"]\n",
    "subjectivity_score = sia.polarity_scores(article_text)[\"compound\"]"
   ]
  },
  {
   "cell_type": "markdown",
   "id": "4b8a8867",
   "metadata": {},
   "source": [
    "Calculate Average Sentence length"
   ]
  },
  {
   "cell_type": "code",
   "execution_count": null,
   "id": "f0fd24f4",
   "metadata": {},
   "outputs": [],
   "source": [
    "average_sentence_length = len(words) / len(sentences)"
   ]
  },
  {
   "cell_type": "code",
   "execution_count": 578,
   "id": "c9fdee09",
   "metadata": {},
   "outputs": [
    {
     "name": "stdout",
     "output_type": "stream",
     "text": [
      "39.27125506072874\n"
     ]
    }
   ],
   "source": [
    "#import syllables\n",
    "w=list(words)\n",
    "syllable_count=[]\n",
    "for word in words:\n",
    "    syllable_count.append(syllables.estimate(word))\n",
    "#print(syllable_count)\n",
    "Syllables=dict(zip(w,syllable_count))\n",
    "#print(syllables)\n",
    "complex_word_count=0\n",
    "for key, value in Syllables.items():\n",
    "    if len(key) > 2 and value > 2:\n",
    "        complex_word_count+=1\n",
    "percentage_complex_words = (complex_word_count / len(Syllables)) * 100\n",
    "print(percentage_complex_words)"
   ]
  },
  {
   "cell_type": "markdown",
   "id": "89bd3b3e",
   "metadata": {},
   "source": [
    "Calculate Average words per sentence"
   ]
  },
  {
   "cell_type": "code",
   "execution_count": 579,
   "id": "3b74014a",
   "metadata": {},
   "outputs": [
    {
     "name": "stdout",
     "output_type": "stream",
     "text": [
      "26.113981476346297\n"
     ]
    }
   ],
   "source": [
    "average_words_per_sentence = len(words) / len(sentences)\n",
    "fog_index_score = 0.4 * (average_words_per_sentence + percentage_complex_words)\n",
    "print(fog_index_score)\n",
    "word_count = len(words)\n",
    "word_count\n",
    "syllables_per_word = sum(syllables.estimate(word) for word in words) / word_count\n",
    "syllables_per_word\n",
    "personal_pronouns = [\"I\", \"me\", \"my\", \"mine\", \"we\", \"us\", \"our\", \"ours\"]\n",
    "personal_pronoun_count = sum(word.lower() in personal_pronouns for word in words)\n",
    "average_word_length = sum(len(word) for word in words) / len(words)"
   ]
  },
  {
   "cell_type": "code",
   "execution_count": 2,
   "id": "dcb5d435",
   "metadata": {
    "scrolled": true
   },
   "outputs": [
    {
     "ename": "NameError",
     "evalue": "name 'positive_score' is not defined",
     "output_type": "error",
     "traceback": [
      "\u001b[1;31m---------------------------------------------------------------------------\u001b[0m",
      "\u001b[1;31mNameError\u001b[0m                                 Traceback (most recent call last)",
      "Cell \u001b[1;32mIn[2], line 1\u001b[0m\n\u001b[1;32m----> 1\u001b[0m \u001b[38;5;28mprint\u001b[39m(\u001b[38;5;124m\"\u001b[39m\u001b[38;5;124mPositive Score : \u001b[39m\u001b[38;5;124m\"\u001b[39m,\u001b[43mpositive_score\u001b[49m)\n\u001b[0;32m      2\u001b[0m \u001b[38;5;28mprint\u001b[39m(\u001b[38;5;124m\"\u001b[39m\u001b[38;5;124mNegative Score : \u001b[39m\u001b[38;5;124m\"\u001b[39m,negative_score)\n\u001b[0;32m      3\u001b[0m \u001b[38;5;28mprint\u001b[39m(\u001b[38;5;124m\"\u001b[39m\u001b[38;5;124mPolarity Score : \u001b[39m\u001b[38;5;124m\"\u001b[39m,polarity_score)\n",
      "\u001b[1;31mNameError\u001b[0m: name 'positive_score' is not defined"
     ]
    }
   ],
   "source": [
    "print(\"Positive Score : \",positive_score)\n",
    "print(\"Negative Score : \",negative_score)\n",
    "print(\"Polarity Score : \",polarity_score)\n",
    "print(\"Subjectivity Score : \",subjectivity_score)\n",
    "print(\"Average Sentence Length : \",average_sentence_length)\n",
    "print(\"Percentage of complex words : \",percentage_complex_words)\n",
    "print(\"Fog Index Score : \",fog_index_score)\n",
    "print(\"Average Words per Sentence : \",average_words_per_sentence)\n",
    "print(\"Complex word count : \",complex_word_count)\n",
    "print(\"Word count : \",word_count)\n",
    "print(\"Syllables per word : \",syllables_per_word)\n",
    "print(\"Personal pronoun count : \",personal_pronoun_count)\n",
    "print(\"Average word length : \",average_word_length)\n"
   ]
  },
  {
   "cell_type": "markdown",
   "id": "eca27b09",
   "metadata": {},
   "source": [
    "Average Sentence Length\n",
    "\n"
   ]
  },
  {
   "cell_type": "markdown",
   "id": "87d92719",
   "metadata": {},
   "source": [
    "Syllables COunt\n"
   ]
  }
 ],
 "metadata": {
  "kernelspec": {
   "display_name": "Python 3 (ipykernel)",
   "language": "python",
   "name": "python3"
  },
  "language_info": {
   "codemirror_mode": {
    "name": "ipython",
    "version": 3
   },
   "file_extension": ".py",
   "mimetype": "text/x-python",
   "name": "python",
   "nbconvert_exporter": "python",
   "pygments_lexer": "ipython3",
   "version": "3.9.7"
  }
 },
 "nbformat": 4,
 "nbformat_minor": 5
}
